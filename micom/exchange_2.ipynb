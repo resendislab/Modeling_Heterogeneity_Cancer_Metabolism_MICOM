{
 "cells": [
  {
   "cell_type": "code",
   "execution_count": 1,
   "metadata": {},
   "outputs": [],
   "source": [
    "import pandas as pd\n",
    "import micom\n",
    "from micom import load_pickle\n",
    "from micom.media import minimal_medium\n",
    "from micom.workflows import workflow"
   ]
  },
  {
   "cell_type": "code",
   "execution_count": 2,
   "metadata": {},
   "outputs": [],
   "source": [
    "max_procs = 10\n",
    "processes = []\n"
   ]
  },
  {
   "cell_type": "code",
   "execution_count": 3,
   "metadata": {},
   "outputs": [],
   "source": [
    "def media_and_gcs(sam):\n",
    "    com = load_pickle('./comunity_' + sam + \".pickle\")\n",
    "    print(com)\n",
    "    # Get growth rates\n",
    "    sol = com.cooperative_tradeoff(fraction=0.9)\n",
    "    rates = sol.members[\"growth_rate\"].copy()\n",
    "    rates[\"community\"] = sol.growth_rate\n",
    "    rates.name = sam\n",
    "\n",
    "    # Get the minimal medium\n",
    "    med = minimal_medium(com, 0.95*sol.growth_rate, exports = True)\n",
    "    med.name = sam\n",
    "\n",
    "    #Get fluxes\n",
    "    com.medium = med[med > 0]\n",
    "    sol = com.cooperative_tradeoff(fraction = 0.9, pfba = True, fluxes = True)\n",
    "    fluxes = sol.fluxes\n",
    "    fluxes[\"sample\"] = sam\n",
    "    return {\"medium\": med, \"gcs\": rates, \"fluxes\":fluxes}"
   ]
  },
  {
   "cell_type": "code",
   "execution_count": 4,
   "metadata": {},
   "outputs": [],
   "source": [
    "gcs = pd.DataFrame()\n",
    "media = pd.DataFrame()\n",
    "fluxes = pd.DataFrame()"
   ]
  },
  {
   "cell_type": "code",
   "execution_count": null,
   "metadata": {},
   "outputs": [
    {
     "data": {
      "application/vnd.jupyter.widget-view+json": {
       "model_id": "56c2d6e15e5749e982c55a40cd2533da",
       "version_major": 2,
       "version_minor": 0
      },
      "text/plain": [
       "HBox(children=(FloatProgress(value=0.0, max=2.0), HTML(value='')))"
      ]
     },
     "metadata": {},
     "output_type": "display_data"
    }
   ],
   "source": [
    "results = workflow(media_and_gcs, ['6', '19'] , max_procs)"
   ]
  },
  {
   "cell_type": "code",
   "execution_count": null,
   "metadata": {},
   "outputs": [],
   "source": [
    "for s in results:\n",
    "    gcs = gcs.append(s[\"gcs\"])\n",
    "    media = media.append(s[\"medium\"])\n",
    "    fluxes = fluxes.append(s[\"fluxes\"])\n",
    "\n",
    "gcs.to_csv(\"growth_rates.csv\")\n",
    "media.to_csv(\"minimal_media.csv\")\n",
    "fluxes.to_csv(\"minimal_fluxes.csv.gz\", compression = \"gzip\")\n"
   ]
  },
  {
   "cell_type": "code",
   "execution_count": null,
   "metadata": {},
   "outputs": [],
   "source": []
  }
 ],
 "metadata": {
  "kernelspec": {
   "display_name": "Python 3",
   "language": "python",
   "name": "python3"
  },
  "language_info": {
   "codemirror_mode": {
    "name": "ipython",
    "version": 3
   },
   "file_extension": ".py",
   "mimetype": "text/x-python",
   "name": "python",
   "nbconvert_exporter": "python",
   "pygments_lexer": "ipython3",
   "version": "3.7.9"
  }
 },
 "nbformat": 4,
 "nbformat_minor": 4
}
